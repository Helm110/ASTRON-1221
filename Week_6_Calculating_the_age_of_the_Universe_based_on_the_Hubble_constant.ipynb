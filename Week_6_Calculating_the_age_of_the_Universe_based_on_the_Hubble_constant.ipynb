{
  "nbformat": 4,
  "nbformat_minor": 0,
  "metadata": {
    "colab": {
      "provenance": [],
      "authorship_tag": "ABX9TyOoUfQiSl51OTBxN8PvPwp8",
      "include_colab_link": true
    },
    "kernelspec": {
      "name": "python3",
      "display_name": "Python 3"
    },
    "language_info": {
      "name": "python"
    }
  },
  "cells": [
    {
      "cell_type": "markdown",
      "metadata": {
        "id": "view-in-github",
        "colab_type": "text"
      },
      "source": [
        "<a href=\"https://colab.research.google.com/github/Helm110/ASTRON-1221/blob/main/Week_6_Calculating_the_age_of_the_Universe_based_on_the_Hubble_constant.ipynb\" target=\"_parent\"><img src=\"https://colab.research.google.com/assets/colab-badge.svg\" alt=\"Open In Colab\"/></a>"
      ]
    },
    {
      "cell_type": "code",
      "execution_count": null,
      "metadata": {
        "id": "3hMM10e1C-w1"
      },
      "outputs": [],
      "source": [
        "#Import numpy, astro units, & constants to be able ot define and calculate\n",
        "#Required values\n",
        "import numpy as n\n",
        "import astropy.units as u\n",
        "import astropy.constants as c\n",
        "\n",
        "#Calculate Age function uses the velocity and distance to measure the age\n",
        "def calcAge(v,d):\n",
        "  #Change distance (d) to correct units for calculation\n",
        "  d = d.to(u.km)\n",
        "\n",
        "  #Calculates age and changes to units that are easier to comprehend\n",
        "  age = d/v\n",
        "  age = age.to(u.Gyr)\n",
        "  return (age)"
      ]
    },
    {
      "cell_type": "code",
      "source": [
        "#Defining the variables and correcting the units to input to calcAge()\n",
        "v = 70 * u.km/u.s\n",
        "d = 1 * u.Mpc\n",
        "#Calculates the age and prints result based off of the defined variables\n",
        "age = calcAge(v,d)\n",
        "print(age)\n"
      ],
      "metadata": {
        "colab": {
          "base_uri": "https://localhost:8080/"
        },
        "id": "bvYFqK00DMP_",
        "outputId": "0150a480-0adc-4c33-9bbf-8e5f87ca0b30"
      },
      "execution_count": null,
      "outputs": [
        {
          "output_type": "stream",
          "name": "stdout",
          "text": [
            "13.96846030972556 Gyr\n"
          ]
        }
      ]
    }
  ]
}