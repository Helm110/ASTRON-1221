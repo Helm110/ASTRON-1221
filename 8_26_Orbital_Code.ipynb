{
  "nbformat": 4,
  "nbformat_minor": 0,
  "metadata": {
    "colab": {
      "provenance": [],
      "authorship_tag": "ABX9TyNbBNHgCPBLzSXHjuQQUTBV",
      "include_colab_link": true
    },
    "kernelspec": {
      "name": "python3",
      "display_name": "Python 3"
    },
    "language_info": {
      "name": "python"
    }
  },
  "cells": [
    {
      "cell_type": "markdown",
      "metadata": {
        "id": "view-in-github",
        "colab_type": "text"
      },
      "source": [
        "<a href=\"https://colab.research.google.com/github/Helm110/ASTRON-1221/blob/main/8_26_Orbital_Code.ipynb\" target=\"_parent\"><img src=\"https://colab.research.google.com/assets/colab-badge.svg\" alt=\"Open In Colab\"/></a>"
      ]
    },
    {
      "cell_type": "code",
      "execution_count": 2,
      "metadata": {
        "id": "SMb_OyU1316p"
      },
      "outputs": [],
      "source": [
        "import astropy.constants as const #Package contains the astonomy constants used later\n",
        "import astropy.units as u # import a Python package to call certain units, e.g., mass of the sun\n",
        "import numpy as np # Imports basic mathmatical functions"
      ]
    },
    {
      "cell_type": "code",
      "source": [
        "M = 1*u.solMass # Define M as a physical value along with assigns a unit\n",
        "print(M.to(u.kg)) # Prints out M along with respected units (kg)"
      ],
      "metadata": {
        "colab": {
          "base_uri": "https://localhost:8080/"
        },
        "id": "O7sIAPBO6VGs",
        "outputId": "83a433c7-1118-4c2e-8a82-ceb2dbcea2fb"
      },
      "execution_count": 3,
      "outputs": [
        {
          "output_type": "stream",
          "name": "stdout",
          "text": [
            "1.988409870698051e+30 kg\n"
          ]
        }
      ]
    },
    {
      "cell_type": "code",
      "source": [
        "R = 1 * u.au # Define R as the radius of the Earth's orbit around the sun in au\n",
        "print(R.to(u.km)) # Prints out R in units of kg"
      ],
      "metadata": {
        "colab": {
          "base_uri": "https://localhost:8080/"
        },
        "id": "652M7klw7QP7",
        "outputId": "6149dadc-8ffb-48d9-f23e-15bf5fac0d63"
      },
      "execution_count": 4,
      "outputs": [
        {
          "output_type": "stream",
          "name": "stdout",
          "text": [
            "149597870.7 km\n"
          ]
        }
      ]
    },
    {
      "cell_type": "code",
      "source": [
        "G = const.G # Defines G as the gravitational constant\n",
        "print(G.si) # Prints out G along with respected units"
      ],
      "metadata": {
        "colab": {
          "base_uri": "https://localhost:8080/"
        },
        "id": "-IegrofV8Sj_",
        "outputId": "36f570bf-a4a4-4b3b-ad08-9c1107bba36e"
      },
      "execution_count": 5,
      "outputs": [
        {
          "output_type": "stream",
          "name": "stdout",
          "text": [
            "  Name   = Gravitational constant\n",
            "  Value  = 6.6743e-11\n",
            "  Uncertainty  = 1.5e-15\n",
            "  Unit  = m3 / (kg s2)\n",
            "  Reference = CODATA 2018\n"
          ]
        }
      ]
    },
    {
      "cell_type": "code",
      "source": [
        "V = np.sqrt((G*M)/R) # Computes the Orbital Velocity equation\n",
        "print(V.to(u.km/u.s)) # Print out the orbital velocity in terms of km/s"
      ],
      "metadata": {
        "colab": {
          "base_uri": "https://localhost:8080/"
        },
        "id": "RpL5Bb8C81xV",
        "outputId": "e6aa5757-0500-40a3-faed-53f8251b34d3"
      },
      "execution_count": 6,
      "outputs": [
        {
          "output_type": "stream",
          "name": "stdout",
          "text": [
            "29.784691829676934 km / s\n"
          ]
        }
      ]
    },
    {
      "cell_type": "code",
      "source": [
        "R_Jupiter = 5.2 * u.au # Radius of orbit of jupiter"
      ],
      "metadata": {
        "id": "T4Kz-GSL_txx"
      },
      "execution_count": 7,
      "outputs": []
    },
    {
      "cell_type": "code",
      "source": [
        "V_Jupiter = np.sqrt((G*M)/R_Jupiter) # Computes the Orbital Velocity equation for Jupiter\n",
        "print(V_Jupiter.to(u.km/u.s)) # Print out the orbital velocity in terms of km/s for Jupiter"
      ],
      "metadata": {
        "colab": {
          "base_uri": "https://localhost:8080/"
        },
        "id": "ybWKdn4a_4nk",
        "outputId": "944640f4-da9b-481d-9257-190e64dd753e"
      },
      "execution_count": 8,
      "outputs": [
        {
          "output_type": "stream",
          "name": "stdout",
          "text": [
            "13.061451410903354 km / s\n"
          ]
        }
      ]
    },
    {
      "cell_type": "markdown",
      "source": [
        "$ V = \\sqrt\\frac{GM}{R} $, this is the equation that we use to calculate orbital velocity"
      ],
      "metadata": {
        "id": "vx_mJWhl4FNG"
      }
    }
  ]
}