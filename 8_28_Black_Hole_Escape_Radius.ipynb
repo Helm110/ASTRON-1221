{
  "nbformat": 4,
  "nbformat_minor": 0,
  "metadata": {
    "colab": {
      "provenance": [],
      "authorship_tag": "ABX9TyM+c+BVo6TEYWZnYiR5IUgJ",
      "include_colab_link": true
    },
    "kernelspec": {
      "name": "python3",
      "display_name": "Python 3"
    },
    "language_info": {
      "name": "python"
    }
  },
  "cells": [
    {
      "cell_type": "markdown",
      "metadata": {
        "id": "view-in-github",
        "colab_type": "text"
      },
      "source": [
        "<a href=\"https://colab.research.google.com/github/Helm110/ASTRON-1221/blob/main/8_28_Black_Hole_Escape_Radius.ipynb\" target=\"_parent\"><img src=\"https://colab.research.google.com/assets/colab-badge.svg\" alt=\"Open In Colab\"/></a>"
      ]
    },
    {
      "cell_type": "markdown",
      "source": [
        "$ R = \\sqrt\\frac{GM}{V^2} $, this is the equation that we use to calculate orbital velocity\n"
      ],
      "metadata": {
        "id": "Hb7hp4gjO3Ru"
      }
    },
    {
      "cell_type": "code",
      "execution_count": null,
      "metadata": {
        "id": "ZpbOwFazMCLU"
      },
      "outputs": [],
      "source": []
    },
    {
      "cell_type": "code",
      "execution_count": 1,
      "metadata": {
        "id": "2eTTTwz0JWFW"
      },
      "outputs": [],
      "source": [
        "import astropy.constants as const #Package contains the astonomy constants used later\n",
        "import astropy.units as u # import a Python package to call certain units, e.g., mass of the sun\n",
        "import numpy as np # Imports basic mathmatical functions"
      ]
    },
    {
      "cell_type": "code",
      "source": [
        "M_blackHole = 1 * u.Msun # Define M as mass of a blackhole\n",
        "print(M_blackHole.to(u.kg)) # Prints out M along with respected units (kg)"
      ],
      "metadata": {
        "colab": {
          "base_uri": "https://localhost:8080/"
        },
        "id": "hHm-KGf2J6gY",
        "outputId": "fa579dd4-ac2d-4cfb-b9ef-8671bdaf4cf3"
      },
      "execution_count": 2,
      "outputs": [
        {
          "output_type": "stream",
          "name": "stdout",
          "text": [
            "1.988409870698051e+30 kg\n"
          ]
        }
      ]
    },
    {
      "cell_type": "code",
      "source": [
        "G = const.G # Defines G as the gravitational constant\n",
        "print(G.si) # Prints out G along with respected units"
      ],
      "metadata": {
        "colab": {
          "base_uri": "https://localhost:8080/"
        },
        "id": "GtCQDs6sLJOq",
        "outputId": "99f84657-c565-4d51-be89-915501ae57d6"
      },
      "execution_count": 3,
      "outputs": [
        {
          "output_type": "stream",
          "name": "stdout",
          "text": [
            "  Name   = Gravitational constant\n",
            "  Value  = 6.6743e-11\n",
            "  Uncertainty  = 1.5e-15\n",
            "  Unit  = m3 / (kg s2)\n",
            "  Reference = CODATA 2018\n"
          ]
        }
      ]
    },
    {
      "cell_type": "code",
      "source": [
        "V = u.lightsecond #Defines velocity of speed\n",
        "print(V.si)"
      ],
      "metadata": {
        "colab": {
          "base_uri": "https://localhost:8080/"
        },
        "id": "7H60rYbdPfvL",
        "outputId": "655123da-2e8a-424c-8893-8a619d00ac61"
      },
      "execution_count": 4,
      "outputs": [
        {
          "output_type": "stream",
          "name": "stdout",
          "text": [
            "2.99792e+08 m\n"
          ]
        }
      ]
    },
    {
      "cell_type": "code",
      "source": [
        "R = np.sqrt((G*M_blackHole)/V) # Computes the Orbital Velocity equation\n",
        "print(R.to(u.km/u.s)) # Print out the orbital velocity in terms of km/s"
      ],
      "metadata": {
        "colab": {
          "base_uri": "https://localhost:8080/"
        },
        "id": "DLFXXmOrLPnS",
        "outputId": "8da3de1b-27b8-44cd-ac7e-67414bf66d7d"
      },
      "execution_count": 5,
      "outputs": [
        {
          "output_type": "stream",
          "name": "stdout",
          "text": [
            "665.3428061543842 km / s\n"
          ]
        }
      ]
    }
  ]
}