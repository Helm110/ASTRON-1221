{
  "nbformat": 4,
  "nbformat_minor": 0,
  "metadata": {
    "colab": {
      "provenance": [],
      "authorship_tag": "ABX9TyPds1lGZ4+Y2w4Z/cBi7zHe",
      "include_colab_link": true
    },
    "kernelspec": {
      "name": "python3",
      "display_name": "Python 3"
    },
    "language_info": {
      "name": "python"
    }
  },
  "cells": [
    {
      "cell_type": "markdown",
      "metadata": {
        "id": "view-in-github",
        "colab_type": "text"
      },
      "source": [
        "<a href=\"https://colab.research.google.com/github/Helm110/ASTRON-1221/blob/main/8_28_Satellite_Orbit.ipynb\" target=\"_parent\"><img src=\"https://colab.research.google.com/assets/colab-badge.svg\" alt=\"Open In Colab\"/></a>"
      ]
    },
    {
      "cell_type": "code",
      "execution_count": 1,
      "metadata": {
        "id": "2eTTTwz0JWFW"
      },
      "outputs": [],
      "source": [
        "import astropy.constants as const #Package contains the astonomy constants used later\n",
        "import astropy.units as u # import a Python package to call certain units, e.g., mass of the sun\n",
        "import numpy as np # Imports basic mathmatical functions"
      ]
    },
    {
      "cell_type": "code",
      "source": [
        "M_earth = 1*u.earthMass # Define M as a physical value along with assigns a unit\n",
        "print(M_earth.to(u.kg)) # Prints out M along with respected units (kg)"
      ],
      "metadata": {
        "colab": {
          "base_uri": "https://localhost:8080/"
        },
        "id": "hHm-KGf2J6gY",
        "outputId": "83770a61-53b4-4b4e-dd80-6cc7fbd96c42"
      },
      "execution_count": 2,
      "outputs": [
        {
          "output_type": "stream",
          "name": "stdout",
          "text": [
            "5.972167867791379e+24 kg\n"
          ]
        }
      ]
    },
    {
      "cell_type": "code",
      "source": [
        "R_earth = 1*u.earthRad # Define R as the radius of the Earth in au\n",
        "print(R_earth.to(u.km)) # Prints out R in units of kg"
      ],
      "metadata": {
        "colab": {
          "base_uri": "https://localhost:8080/"
        },
        "id": "8TpiDsjPKYCt",
        "outputId": "a73ecb62-ed6f-4a92-a42d-53a8e9b01e25"
      },
      "execution_count": 3,
      "outputs": [
        {
          "output_type": "stream",
          "name": "stdout",
          "text": [
            "6378.1 km\n"
          ]
        }
      ]
    },
    {
      "cell_type": "code",
      "source": [
        "G = const.G # Defines G as the gravitational constant\n",
        "print(G.si) # Prints out G along with respected units"
      ],
      "metadata": {
        "colab": {
          "base_uri": "https://localhost:8080/"
        },
        "id": "GtCQDs6sLJOq",
        "outputId": "6fbaad44-98f2-4689-dead-351263d15507"
      },
      "execution_count": 4,
      "outputs": [
        {
          "output_type": "stream",
          "name": "stdout",
          "text": [
            "  Name   = Gravitational constant\n",
            "  Value  = 6.6743e-11\n",
            "  Uncertainty  = 1.5e-15\n",
            "  Unit  = m3 / (kg s2)\n",
            "  Reference = CODATA 2018\n"
          ]
        }
      ]
    },
    {
      "cell_type": "code",
      "source": [
        "V = np.sqrt((G*M_earth)/R_earth) # Computes the Orbital Velocity equation\n",
        "print(V.to(u.km/u.s)) # Print out the orbital velocity in terms of km/s"
      ],
      "metadata": {
        "colab": {
          "base_uri": "https://localhost:8080/"
        },
        "id": "DLFXXmOrLPnS",
        "outputId": "e5a2240e-356f-4085-bf2b-f132699aea47"
      },
      "execution_count": 5,
      "outputs": [
        {
          "output_type": "stream",
          "name": "stdout",
          "text": [
            "7.905388234385281 km / s\n"
          ]
        }
      ]
    }
  ]
}